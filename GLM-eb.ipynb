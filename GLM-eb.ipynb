{
 "cells": [
  {
   "cell_type": "markdown",
   "metadata": {},
   "source": [
    "### GLM-eb \n",
    "@author: Jordan, Ben"
   ]
  },
  {
   "cell_type": "code",
   "execution_count": 1,
   "metadata": {},
   "outputs": [],
   "source": [
    "import numpy as np\n",
    "import matplotlib.pyplot as plt\n",
    "import seaborn as sns\n",
    "import math\n",
    "import pandas as pd\n",
    "import scipy as sp\n",
    "from scipy import io as sio\n",
    "import statistics\n",
    "import mat73\n",
    "import glmmod"
   ]
  },
  {
   "cell_type": "markdown",
   "metadata": {},
   "source": [
    "### load dataset (choose a. or b.):"
   ]
  },
  {
   "cell_type": "markdown",
   "metadata": {},
   "source": [
    "#### a. sample data"
   ]
  },
  {
   "cell_type": "code",
   "execution_count": 2,
   "metadata": {},
   "outputs": [],
   "source": [
    "# load & format sample data\n",
    "filepath = 'sampleData.mat'\n",
    "mat = sio.loadmat(filepath)\n",
    "ST = mat['ST']\n",
    "P = mat['P']\n",
    "hd = mat['hd']*(np.pi/180) # [0,2pi] rad"
   ]
  },
  {
   "cell_type": "markdown",
   "metadata": {},
   "source": [
    "#### b. blackstad data"
   ]
  },
  {
   "cell_type": "code",
   "execution_count": 3,
   "metadata": {},
   "outputs": [],
   "source": [
    "# # load blackstad data\n",
    "# filepath = 'C:\\\\Users\\\\17145\\\\OneDrive - NTNU\\\\Documents\\\\methods-project\\\\data_code\\\\curatedUnitsJS\\\\passuPython.mat'\n",
    "# filepath_pos = 'C:\\\\Users\\\\17145\\\\OneDrive - NTNU\\\\Documents\\\\methods-project\\\\data_code\\\\curatedUnitsJS\\\\P.mat'\n",
    "# mat = scipy.io.loadmat(filepath)\n",
    "\n",
    "# mat_pos = mat73.loadmat(filepath_pos)"
   ]
  },
  {
   "cell_type": "markdown",
   "metadata": {},
   "source": [
    "### viz parameters"
   ]
  },
  {
   "cell_type": "code",
   "execution_count": 4,
   "metadata": {},
   "outputs": [],
   "source": [
    "plt.rcParams['figure.figsize'] = (4,2)\n",
    "plt.rc('axes', labelsize=10); plt.rc('axes', titlesize=10)\n",
    "plt.style.use('ggplot'); plt.rc('font', size=10);"
   ]
  },
  {
   "cell_type": "markdown",
   "metadata": {},
   "source": [
    "### run models"
   ]
  },
  {
   "cell_type": "markdown",
   "metadata": {},
   "source": [
    "1. set everything up"
   ]
  },
  {
   "cell_type": "code",
   "execution_count": 5,
   "metadata": {},
   "outputs": [
    {
     "name": "stdout",
     "output_type": "stream",
     "text": [
      "unit 1\n"
     ]
    }
   ],
   "source": [
    "numUnits = 1\n",
    "llh_err_units = {}\n",
    "best_model_units = {}\n",
    "u = 1\n",
    "\n",
    "print('unit ' + str(u))\n",
    "RP = [75, 75]\n",
    "t_raw = P[:,0]; dt = t_raw[1]-t_raw[0];\n",
    "\n",
    "# initialize class instance\n",
    "g = glmmod.glm(ST,P,hd)\n",
    "\n",
    "# prepare the data\n",
    "posgrid_raw,_ = g.pos_map(nbins=10)\n",
    "ebgrid_raw,_ = g.eb_map(nbins=10, rp=RP) # here we assume the reference point\n",
    "hdgrid_raw,_ = g.eb_map(nbins=10, rp=RP) # here we assume the reference point\n",
    "smooth_fr, raw_spktrn, filt, dt = g.conv_spktrain() # get spiketrain (raw = convolved)\n",
    "posgrid,ebgrid,hdgrid,spiketrain = g.speed_threshold(posgrid_raw,ebgrid_raw,hdgrid_raw,raw_spktrn)\n",
    "\n",
    "# dictionaries with info about each model\n",
    "stateDict = {\n",
    "    0: [posgrid,ebgrid],\n",
    "    1: posgrid,\n",
    "    2: ebgrid,\n",
    "    3: hdgrid,\n",
    "    4: [posgrid,hdgrid]\n",
    "}\n",
    "\n",
    "labelDict = {\n",
    "    0: 'PE',\n",
    "    1: 'P',\n",
    "    2: 'E',\n",
    "    3: 'H',\n",
    "    4: 'PH'\n",
    "}\n",
    "\n",
    "allModels = {}\n",
    "numModels = 5\n",
    "\n",
    "# get test/train indices (same for each model)\n",
    "kfoldIdx, kfoldIdx_df = g.kfoldSplit(spiketrain, nfolds=10)"
   ]
  },
  {
   "cell_type": "markdown",
   "metadata": {},
   "source": [
    "2. iterate through all models of interest (CONDENSED VERSION)"
   ]
  },
  {
   "cell_type": "code",
   "execution_count": 6,
   "metadata": {},
   "outputs": [
    {
     "name": "stdout",
     "output_type": "stream",
     "text": [
      "processing model 0 (PE) ...\n"
     ]
    },
    {
     "name": "stderr",
     "output_type": "stream",
     "text": [
      "c:\\Users\\jordannc\\OneDrive - NTNU\\Documents\\github_local\\Python\\simulationsProject\\GLM\\glmmod.py:442: RuntimeWarning: overflow encountered in exp\n",
      "  y_hat = np.exp(x @ param[1:] + param[0])\n",
      "c:\\Users\\jordannc\\OneDrive - NTNU\\Documents\\github_local\\Python\\simulationsProject\\GLM\\glmmod.py:445: RuntimeWarning: invalid value encountered in matmul\n",
      "  dw = (x.T @ (y_hat - y)) / M\n",
      "c:\\Users\\jordannc\\OneDrive - NTNU\\Documents\\github_local\\Python\\simulationsProject\\GLM\\glmmod.py:442: RuntimeWarning: overflow encountered in exp\n",
      "  y_hat = np.exp(x @ param[1:] + param[0])\n",
      "c:\\Users\\jordannc\\OneDrive - NTNU\\Documents\\github_local\\Python\\simulationsProject\\GLM\\glmmod.py:445: RuntimeWarning: invalid value encountered in matmul\n",
      "  dw = (x.T @ (y_hat - y)) / M\n",
      "c:\\Users\\jordannc\\OneDrive - NTNU\\Documents\\github_local\\Python\\simulationsProject\\GLM\\glmmod.py:442: RuntimeWarning: overflow encountered in exp\n",
      "  y_hat = np.exp(x @ param[1:] + param[0])\n",
      "c:\\Users\\jordannc\\OneDrive - NTNU\\Documents\\github_local\\Python\\simulationsProject\\GLM\\glmmod.py:445: RuntimeWarning: invalid value encountered in matmul\n",
      "  dw = (x.T @ (y_hat - y)) / M\n",
      "c:\\Users\\jordannc\\OneDrive - NTNU\\Documents\\github_local\\Python\\simulationsProject\\GLM\\glmmod.py:442: RuntimeWarning: overflow encountered in exp\n",
      "  y_hat = np.exp(x @ param[1:] + param[0])\n",
      "c:\\Users\\jordannc\\OneDrive - NTNU\\Documents\\github_local\\Python\\simulationsProject\\GLM\\glmmod.py:445: RuntimeWarning: invalid value encountered in matmul\n",
      "  dw = (x.T @ (y_hat - y)) / M\n",
      "c:\\Users\\jordannc\\OneDrive - NTNU\\Documents\\github_local\\Python\\simulationsProject\\GLM\\glmmod.py:442: RuntimeWarning: overflow encountered in exp\n",
      "  y_hat = np.exp(x @ param[1:] + param[0])\n",
      "c:\\Users\\jordannc\\OneDrive - NTNU\\Documents\\github_local\\Python\\simulationsProject\\GLM\\glmmod.py:445: RuntimeWarning: invalid value encountered in matmul\n",
      "  dw = (x.T @ (y_hat - y)) / M\n",
      "c:\\Users\\jordannc\\OneDrive - NTNU\\Documents\\github_local\\Python\\simulationsProject\\GLM\\glmmod.py:442: RuntimeWarning: overflow encountered in exp\n",
      "  y_hat = np.exp(x @ param[1:] + param[0])\n",
      "c:\\Users\\jordannc\\OneDrive - NTNU\\Documents\\github_local\\Python\\simulationsProject\\GLM\\glmmod.py:445: RuntimeWarning: invalid value encountered in matmul\n",
      "  dw = (x.T @ (y_hat - y)) / M\n",
      "c:\\Users\\jordannc\\OneDrive - NTNU\\Documents\\github_local\\Python\\simulationsProject\\GLM\\glmmod.py:442: RuntimeWarning: overflow encountered in exp\n",
      "  y_hat = np.exp(x @ param[1:] + param[0])\n",
      "c:\\Users\\jordannc\\OneDrive - NTNU\\Documents\\github_local\\Python\\simulationsProject\\GLM\\glmmod.py:445: RuntimeWarning: invalid value encountered in matmul\n",
      "  dw = (x.T @ (y_hat - y)) / M\n",
      "c:\\Users\\jordannc\\OneDrive - NTNU\\Documents\\github_local\\Python\\simulationsProject\\GLM\\glmmod.py:442: RuntimeWarning: overflow encountered in exp\n",
      "  y_hat = np.exp(x @ param[1:] + param[0])\n",
      "c:\\Users\\jordannc\\OneDrive - NTNU\\Documents\\github_local\\Python\\simulationsProject\\GLM\\glmmod.py:445: RuntimeWarning: invalid value encountered in matmul\n",
      "  dw = (x.T @ (y_hat - y)) / M\n",
      "c:\\Users\\jordannc\\OneDrive - NTNU\\Documents\\github_local\\Python\\simulationsProject\\GLM\\glmmod.py:442: RuntimeWarning: overflow encountered in exp\n",
      "  y_hat = np.exp(x @ param[1:] + param[0])\n",
      "c:\\Users\\jordannc\\OneDrive - NTNU\\Documents\\github_local\\Python\\simulationsProject\\GLM\\glmmod.py:445: RuntimeWarning: invalid value encountered in matmul\n",
      "  dw = (x.T @ (y_hat - y)) / M\n",
      "c:\\Users\\jordannc\\OneDrive - NTNU\\Documents\\github_local\\Python\\simulationsProject\\GLM\\glmmod.py:442: RuntimeWarning: overflow encountered in exp\n",
      "  y_hat = np.exp(x @ param[1:] + param[0])\n",
      "c:\\Users\\jordannc\\OneDrive - NTNU\\Documents\\github_local\\Python\\simulationsProject\\GLM\\glmmod.py:445: RuntimeWarning: invalid value encountered in matmul\n",
      "  dw = (x.T @ (y_hat - y)) / M\n"
     ]
    },
    {
     "ename": "TypeError",
     "evalue": "ufunc 'isfinite' not supported for the input types, and the inputs could not be safely coerced to any supported types according to the casting rule ''safe''",
     "output_type": "error",
     "traceback": [
      "\u001b[1;31m---------------------------------------------------------------------------\u001b[0m",
      "\u001b[1;31mTypeError\u001b[0m                                 Traceback (most recent call last)",
      "\u001b[1;32mc:\\Users\\jordannc\\OneDrive - NTNU\\Documents\\github_local\\Python\\simulationsProject\\GLM\\GLM-eb.ipynb Cell 14'\u001b[0m in \u001b[0;36m<cell line: 1>\u001b[1;34m()\u001b[0m\n\u001b[0;32m     <a href='vscode-notebook-cell:/c%3A/Users/jordannc/OneDrive%20-%20NTNU/Documents/github_local/Python/simulationsProject/GLM/GLM-eb.ipynb#ch0000029?line=10'>11</a>\u001b[0m kres, train_y, test_y, train_x, test_x, data, param \u001b[39m=\u001b[39m g\u001b[39m.\u001b[39mkfoldOptim(kfoldIdx_df,statemat,modelType\u001b[39m=\u001b[39mmt)\n\u001b[0;32m     <a href='vscode-notebook-cell:/c%3A/Users/jordannc/OneDrive%20-%20NTNU/Documents/github_local/Python/simulationsProject/GLM/GLM-eb.ipynb#ch0000029?line=12'>13</a>\u001b[0m \u001b[39m# check the model fit\u001b[39;00m\n\u001b[1;32m---> <a href='vscode-notebook-cell:/c%3A/Users/jordannc/OneDrive%20-%20NTNU/Documents/github_local/Python/simulationsProject/GLM/GLM-eb.ipynb#ch0000029?line=13'>14</a>\u001b[0m testfit \u001b[39m=\u001b[39m g\u001b[39m.\u001b[39;49mget_testFit(mt,kres,train_y,test_y,train_x,test_x)\n\u001b[0;32m     <a href='vscode-notebook-cell:/c%3A/Users/jordannc/OneDrive%20-%20NTNU/Documents/github_local/Python/simulationsProject/GLM/GLM-eb.ipynb#ch0000029?line=15'>16</a>\u001b[0m \u001b[39m# package outputs\u001b[39;00m\n\u001b[0;32m     <a href='vscode-notebook-cell:/c%3A/Users/jordannc/OneDrive%20-%20NTNU/Documents/github_local/Python/simulationsProject/GLM/GLM-eb.ipynb#ch0000029?line=16'>17</a>\u001b[0m modelPackage \u001b[39m=\u001b[39m g\u001b[39m.\u001b[39mpackageOutput(kfoldIdx_df,kres,train_y,train_x,test_y,test_x,testfit) \u001b[39m# FIX\u001b[39;00m\n",
      "File \u001b[1;32mc:\\Users\\jordannc\\OneDrive - NTNU\\Documents\\github_local\\Python\\simulationsProject\\GLM\\glmmod.py:592\u001b[0m, in \u001b[0;36mglm.get_testFit\u001b[1;34m(self, modelType, kres, train_y, test_y, train_x, test_x)\u001b[0m\n\u001b[0;32m    <a href='file:///c%3A/Users/jordannc/OneDrive%20-%20NTNU/Documents/github_local/Python/simulationsProject/GLM/glmmod.py?line=588'>589</a>\u001b[0m \u001b[39m'''get statistics for model fit'''\u001b[39;00m\n\u001b[0;32m    <a href='file:///c%3A/Users/jordannc/OneDrive%20-%20NTNU/Documents/github_local/Python/simulationsProject/GLM/glmmod.py?line=590'>591</a>\u001b[0m \u001b[39m# smooth firing rates\u001b[39;00m\n\u001b[1;32m--> <a href='file:///c%3A/Users/jordannc/OneDrive%20-%20NTNU/Documents/github_local/Python/simulationsProject/GLM/glmmod.py?line=591'>592</a>\u001b[0m test_y_smooth, _, _, _ \u001b[39m=\u001b[39m \u001b[39mself\u001b[39;49m\u001b[39m.\u001b[39;49mconv_spktrain(defaultST\u001b[39m=\u001b[39;49m\u001b[39mFalse\u001b[39;49;00m,spikeIn\u001b[39m=\u001b[39;49mtest_y)\n\u001b[0;32m    <a href='file:///c%3A/Users/jordannc/OneDrive%20-%20NTNU/Documents/github_local/Python/simulationsProject/GLM/glmmod.py?line=592'>593</a>\u001b[0m train_y_smooth, _, _, _ \u001b[39m=\u001b[39m \u001b[39mself\u001b[39m\u001b[39m.\u001b[39mconv_spktrain(defaultST\u001b[39m=\u001b[39m\u001b[39mFalse\u001b[39;00m,spikeIn\u001b[39m=\u001b[39mtrain_y) \n\u001b[0;32m    <a href='file:///c%3A/Users/jordannc/OneDrive%20-%20NTNU/Documents/github_local/Python/simulationsProject/GLM/glmmod.py?line=594'>595</a>\u001b[0m \u001b[39m# initialize output structures\u001b[39;00m\n",
      "File \u001b[1;32mc:\\Users\\jordannc\\OneDrive - NTNU\\Documents\\github_local\\Python\\simulationsProject\\GLM\\glmmod.py:114\u001b[0m, in \u001b[0;36mglm.conv_spktrain\u001b[1;34m(self, Xx, sigma, c, defaultST, spikeIn, dt)\u001b[0m\n\u001b[0;32m    <a href='file:///c%3A/Users/jordannc/OneDrive%20-%20NTNU/Documents/github_local/Python/simulationsProject/GLM/glmmod.py?line=110'>111</a>\u001b[0m     binnedSpikes \u001b[39m=\u001b[39m spikeIn\n\u001b[0;32m    <a href='file:///c%3A/Users/jordannc/OneDrive%20-%20NTNU/Documents/github_local/Python/simulationsProject/GLM/glmmod.py?line=112'>113</a>\u001b[0m \u001b[39m# remove any nans/infinite values in spiketrain\u001b[39;00m\n\u001b[1;32m--> <a href='file:///c%3A/Users/jordannc/OneDrive%20-%20NTNU/Documents/github_local/Python/simulationsProject/GLM/glmmod.py?line=113'>114</a>\u001b[0m idx_inf \u001b[39m=\u001b[39m np\u001b[39m.\u001b[39mwhere(\u001b[39m~\u001b[39mnp\u001b[39m.\u001b[39;49misfinite(binnedSpikes))[\u001b[39m0\u001b[39m]\n\u001b[0;32m    <a href='file:///c%3A/Users/jordannc/OneDrive%20-%20NTNU/Documents/github_local/Python/simulationsProject/GLM/glmmod.py?line=114'>115</a>\u001b[0m idx_nan \u001b[39m=\u001b[39m np\u001b[39m.\u001b[39mwhere(np\u001b[39m.\u001b[39misnan(binnedSpikes))[\u001b[39m0\u001b[39m]\n\u001b[0;32m    <a href='file:///c%3A/Users/jordannc/OneDrive%20-%20NTNU/Documents/github_local/Python/simulationsProject/GLM/glmmod.py?line=115'>116</a>\u001b[0m replace_idx \u001b[39m=\u001b[39m np\u001b[39m.\u001b[39munion1d(idx_inf, idx_nan)\n",
      "\u001b[1;31mTypeError\u001b[0m: ufunc 'isfinite' not supported for the input types, and the inputs could not be safely coerced to any supported types according to the casting rule ''safe''"
     ]
    }
   ],
   "source": [
    "for model in range(numModels):\n",
    "\n",
    "    mt = labelDict[model]\n",
    "    print('processing model ' + str(model) + ' (' + mt + ') ...')\n",
    "\n",
    "    # get state matrix\n",
    "    stateIn = stateDict[model]\n",
    "    statemat, expr = g.squish_statemat(spiketrain, stateIn, modelType=mt)\n",
    "\n",
    "    # optimize model parameters\n",
    "    kres, train_y, test_y, train_x, test_x, data, param = g.kfoldOptim(kfoldIdx_df,statemat,modelType=mt)\n",
    "\n",
    "    # check the model fit\n",
    "    testfit = g.get_testFit(mt,kres,train_y,test_y,train_x,test_x)\n",
    "\n",
    "    # package outputs\n",
    "    modelPackage = g.packageOutput(kfoldIdx_df,kres,train_y,train_x,test_y,test_x,testfit) # FIX\n",
    "\n",
    "    # save in allModels dictionary\n",
    "    allModels[model] = modelPackage"
   ]
  },
  {
   "cell_type": "code",
   "execution_count": 83,
   "metadata": {},
   "outputs": [],
   "source": [
    "fold = 1\n",
    "bestp = kres[1].x/1e12 # best parameters\n",
    "n = test_y[fold]\n",
    "arrFactorial = np.vectorize(math.factorial) # array-wise factorial fn\n",
    "meanFR_test = np.nanmean(n)\n",
    "\n",
    "yhat_raw = g.get_rate(test_x[fold],bestp[1:],bestp[0]) # not normalized\n",
    "yhat, _, _, _ = g.conv_spktrain(defaultST=False,spikeIn=yhat_raw) # normalized by dt (hz)\n",
    "y_test_smooth, _, _, _ =  g.conv_spktrain(defaultST=False,spikeIn=train_y[fold]) \n",
    "\n",
    "\n",
    "# format the state matrix\n",
    "b = np.ones((len(test_x[fold]),len(bestp)))\n",
    "b[:,1:] = test_x[fold]\n",
    "\n",
    "r = yhat_raw\n"
   ]
  },
  {
   "cell_type": "code",
   "execution_count": 84,
   "metadata": {},
   "outputs": [
    {
     "data": {
      "text/plain": [
       "[<matplotlib.lines.Line2D at 0x1872eb1e3a0>]"
      ]
     },
     "execution_count": 84,
     "metadata": {},
     "output_type": "execute_result"
    },
    {
     "data": {
      "image/png": "[encoded data removed]",
      "text/plain": [
       "<Figure size 288x144 with 1 Axes>"
      ]
     },
     "metadata": {},
     "output_type": "display_data"
    }
   ],
   "source": [
    "plt.plot(r)\n",
    "# plt.plot(y_test_smooth)"
   ]
  },
  {
   "cell_type": "markdown",
   "metadata": {},
   "source": [
    "3. perform model selection"
   ]
  },
  {
   "cell_type": "code",
   "execution_count": null,
   "metadata": {},
   "outputs": [],
   "source": [
    "# model selection\n",
    "llh, bestModel = g.modelSelection(allModels,labelDict)"
   ]
  },
  {
   "cell_type": "code",
   "execution_count": null,
   "metadata": {},
   "outputs": [],
   "source": [
    "# display results\n",
    "llh_err = g.plot_llh(allModels,labelDict)"
   ]
  }
 ],
 "metadata": {
  "kernelspec": {
   "display_name": "Python 3",
   "language": "python",
   "name": "python3"
  },
  "language_info": {
   "codemirror_mode": {
    "name": "ipython",
    "version": 3
   },
   "file_extension": ".py",
   "mimetype": "text/x-python",
   "name": "python",
   "nbconvert_exporter": "python",
   "pygments_lexer": "ipython3",
   "version": "3.8.13"
  }
 },
 "nbformat": 4,
 "nbformat_minor": 4
}
