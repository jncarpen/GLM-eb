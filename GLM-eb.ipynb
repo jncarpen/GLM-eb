{
 "cells": [
  {
   "cell_type": "markdown",
   "metadata": {},
   "source": [
    "### GLM-eb\n",
    "@authors: J. Carpenter, B.A. Dunn"
   ]
  },
  {
   "cell_type": "code",
   "execution_count": 1,
   "metadata": {},
   "outputs": [],
   "source": [
    "import numpy as np\n",
    "import random\n",
    "import matplotlib.pyplot as plt\n",
    "import seaborn as sns\n",
    "import math\n",
    "import pandas as pd\n",
    "import scipy as sp\n",
    "from scipy import io as sio\n",
    "import statistics\n",
    "import mat73\n",
    "import glmmod"
   ]
  },
  {
   "cell_type": "markdown",
   "metadata": {},
   "source": [
    "#### load dataset (choose a. or b.):"
   ]
  },
  {
   "cell_type": "markdown",
   "metadata": {},
   "source": [
    "load sample data OR"
   ]
  },
  {
   "cell_type": "code",
   "execution_count": 2,
   "metadata": {},
   "outputs": [],
   "source": [
    "# load & format sample data\n",
    "filepath = 'sampleData_e.mat'\n",
    "mat = sio.loadmat(filepath)\n",
    "ST = mat['ST']\n",
    "P = mat['P']\n",
    "hd = np.radians(mat['hd']) #*(np.pi/180) # [0,2pi] rad"
   ]
  },
  {
   "cell_type": "markdown",
   "metadata": {},
   "source": [
    "load blackstad data"
   ]
  },
  {
   "cell_type": "code",
   "execution_count": 3,
   "metadata": {},
   "outputs": [],
   "source": [
    "# # load blackstad data\n",
    "# filepath = 'C:\\\\Users\\\\17145\\\\OneDrive - NTNU\\\\Documents\\\\methods-project\\\\data_code\\\\curatedUnitsJS\\\\passuPython.mat'\n",
    "# filepath_pos = 'C:\\\\Users\\\\17145\\\\OneDrive - NTNU\\\\Documents\\\\methods-project\\\\data_code\\\\curatedUnitsJS\\\\P.mat'\n",
    "# mat = scipy.io.loadmat(filepath)\n",
    "\n",
    "# mat_pos = mat73.loadmat(filepath_pos)"
   ]
  },
  {
   "cell_type": "markdown",
   "metadata": {},
   "source": [
    "set visualization params"
   ]
  },
  {
   "cell_type": "code",
   "execution_count": 4,
   "metadata": {},
   "outputs": [],
   "source": [
    "plt.rcParams['figure.figsize'] = (4,4)\n",
    "plt.rc('axes', labelsize=10); plt.rc('axes', titlesize=10)\n",
    "plt.style.use('seaborn-bright'); plt.rc('font', size=10);"
   ]
  },
  {
   "cell_type": "markdown",
   "metadata": {},
   "source": [
    "initialize class instance"
   ]
  },
  {
   "cell_type": "code",
   "execution_count": 5,
   "metadata": {},
   "outputs": [],
   "source": [
    "# initialize class instance\n",
    "g = glmmod.glm(ST,P,hd)\n",
    "\n",
    "# cell's spiketrain (raw and speed-filtered)\n",
    "smooth_fr, raw_spktrn, filt, dt = g.conv_spktrain() # get spiketrain (raw = convolved)\n",
    "spiketrain = g.speed_threshold(raw_spktrn)"
   ]
  },
  {
   "cell_type": "code",
   "execution_count": 6,
   "metadata": {},
   "outputs": [],
   "source": [
    "# get test/train indices (same for each model)\n",
    "kfoldIdx, kfoldIdx_df = g.kfoldSplit(spiketrain, nfolds=10)"
   ]
  },
  {
   "cell_type": "markdown",
   "metadata": {},
   "source": [
    "search for the best egocentric reference point via grid search"
   ]
  },
  {
   "cell_type": "code",
   "execution_count": 7,
   "metadata": {},
   "outputs": [
    {
     "name": "stderr",
     "output_type": "stream",
     "text": [
      "C:\\Users\\jordannc\\.conda\\envs\\egoGLM\\lib\\site-packages\\seaborn\\_decorators.py:36: FutureWarning: Pass the following variables as keyword args: x, y. From version 0.12, the only valid positional argument will be `data`, and passing other arguments without an explicit keyword will result in an error or misinterpretation.\n",
      "  warnings.warn(\n"
     ]
    },
    {
     "data": {
      "image/png": "[encoded data removed]",
      "text/plain": [
       "<Figure size 288x288 with 1 Axes>"
      ]
     },
     "metadata": {},
     "output_type": "display_data"
    }
   ],
   "source": [
    "boxLen = g.get_size()\n",
    "enlarge = 10\n",
    "M = 5\n",
    "\n",
    "# make grid inside box\n",
    "X_inside,Y_inside = np.meshgrid(np.linspace(0,boxLen+enlarge,M),np.linspace(0,boxLen+enlarge,M))\n",
    "\n",
    "# make grid outside box\n",
    "limMax = 500; limMin = 175\n",
    "n_outside_points = 100\n",
    "X_outside = np.zeros((n_outside_points))\n",
    "Y_outside = np.zeros((n_outside_points))\n",
    "\n",
    "for ptNum in range(n_outside_points):\n",
    "    radius = limMax + (limMin - limMax) * random.random()\n",
    "    theta = (2*np.pi) * random.random()\n",
    "    X_outside[ptNum] = radius * np.cos(theta) + (boxLen/2)\n",
    "    Y_outside[ptNum] = radius * np.sin(theta) + (boxLen/2)\n",
    "\n",
    "refX = np.append(X_inside,X_outside)\n",
    "refY = np.append(Y_inside,Y_outside)\n",
    "npoints = len(refX)\n",
    "\n",
    "llhSearch = [] \n",
    "llhSearchMean = []\n",
    "bestParamSearch = [] \n",
    "\n",
    "mt = 'E' # working with egocentric bearing model\n",
    "\n",
    "for pnt in range(npoints):\n",
    "    RP = [refX[pnt], refY[pnt]]\n",
    "\n",
    "    ebgrid_raw,ego,_ = g.eb_map(nbins=10, rp=RP) # here we assume the reference point\n",
    "    ebgrid = g.speed_threshold(ebgrid_raw)\n",
    "\n",
    "    statemat, expr = g.squish_statemat(spiketrain, ebgrid, modelType='E')\n",
    "\n",
    "    # initialize with best-fit parameters from previous run\n",
    "    if pnt > 0:\n",
    "        initParam = kres[0].x[:] # this should call kres from the previous iteration (before its overriden)\n",
    "    else:\n",
    "        initParam =  np.ones((10, ))*1e-3\n",
    "\n",
    "    kres, train_y, test_y, train_x, test_x, data, param = g.kfoldOptim(kfoldIdx_df,statemat,initParam,modelType='E')\n",
    "\n",
    "    testfit = g.get_testFit('E',kres,train_y,test_y,train_x,test_x)\n",
    "\n",
    "    bestParamSearch.append(kres[0].x[:])\n",
    "    llhSearch.append(testfit['llh_test'][:])\n",
    "    llhSearchMean.append(np.nanmean(testfit['llh_test'][:]))\n",
    "\n",
    "    del testfit\n",
    "\n",
    "# vstack arrays outside loop (to save time in loop)\n",
    "bestParamSearch = np.vstack(bestParamSearch)\n",
    "llhSearch = np.vstack(llhSearch)\n",
    "llhSearchMean = np.vstack(llhSearchMean)\n",
    "\n",
    "# find the best fit reference point\n",
    "maxLLHidx,_ = np.where(llhSearchMean==np.amax(llhSearchMean))\n",
    "maxLLHidx = maxLLHidx[0]\n",
    "\n",
    "# reference point to use\n",
    "RP = [refX[maxLLHidx], refY[maxLLHidx]]\n",
    "\n",
    "# visualize results of grid search\n",
    "b = np.reshape(llhSearchMean, (1,len(llhSearchMean)))\n",
    "b = b[0]\n",
    "sns.set_theme(style='white')\n",
    "gplot = sns.scatterplot(x=refX, y=refY, hue=b,palette=\"crest\", legend = False)\n"
   ]
  },
  {
   "cell_type": "code",
   "execution_count": 8,
   "metadata": {},
   "outputs": [
    {
     "name": "stdout",
     "output_type": "stream",
     "text": [
      "unit 1\n"
     ]
    }
   ],
   "source": [
    "numUnits = 1\n",
    "llh_err_units = {}\n",
    "best_model_units = {}\n",
    "u = 1\n",
    "\n",
    "print('unit ' + str(u))\n",
    "t_raw = P[:,0]; dt = t_raw[1]-t_raw[0];\n",
    "\n",
    "# calculate state matrices\n",
    "posgrid_raw,_ = g.pos_map(nbins=10)\n",
    "ebgrid_raw,ego,_ = g.eb_map(nbins=10, rp=RP) # here we assume the reference point\n",
    "hdgrid_raw,_ = g.hd_map(nbins=10) \n",
    "\n",
    "# speed filter state matrices\n",
    "posgrid = g.speed_threshold(posgrid_raw)\n",
    "ebgrid = g.speed_threshold(ebgrid_raw)\n",
    "hdgrid = g.speed_threshold(hdgrid_raw)\n",
    "\n",
    "\n",
    "# dictionaries with info about each model\n",
    "stateDict = {\n",
    "    0: [posgrid,ebgrid],\n",
    "    1: posgrid,\n",
    "    2: ebgrid,\n",
    "    3: hdgrid,\n",
    "    4: [posgrid,hdgrid]\n",
    "}\n",
    "\n",
    "labelDict = {\n",
    "    0: 'PE',\n",
    "    1: 'P',\n",
    "    2: 'E',\n",
    "    3: 'H',\n",
    "    4: 'PH'\n",
    "}\n",
    "\n",
    "allModels = {}\n",
    "numModels = 5"
   ]
  },
  {
   "cell_type": "markdown",
   "metadata": {},
   "source": [
    "iterate through all models of interest (5 total)"
   ]
  },
  {
   "cell_type": "code",
   "execution_count": 14,
   "metadata": {},
   "outputs": [
    {
     "name": "stdout",
     "output_type": "stream",
     "text": [
      "processing model 0 (PE) ...\n",
      "processing model 1 (P) ...\n",
      "processing model 2 (E) ...\n",
      "processing model 3 (H) ...\n",
      "processing model 4 (PH) ...\n"
     ]
    }
   ],
   "source": [
    "for model in range(numModels):\n",
    "\n",
    "    mt = labelDict[model]\n",
    "    print('processing model ' + str(model) + ' (' + mt + ') ...')\n",
    "\n",
    "    # get state matrix\n",
    "    stateIn = stateDict[model]\n",
    "    statemat, expr = g.squish_statemat(spiketrain, stateIn, modelType=mt)\n",
    "\n",
    "    # optimize model parameters\n",
    "    # warnings.filterwarnings(\"ignore\", category=FutureWarning)\n",
    "    _,n = np.shape(statemat); initParam = np.ones((n-1, ))*1e-3\n",
    "    kres, train_y, test_y, train_x, test_x, data, param = g.kfoldOptim(kfoldIdx_df,statemat,initParam,modelType=mt)\n",
    "\n",
    "    # check the model fit\n",
    "\n",
    "    testfit = g.get_testFit(mt,kres,train_y,test_y,train_x,test_x)\n",
    "\n",
    "    # package outputs\n",
    "    modelPackage = g.packageOutput(kfoldIdx_df,kres,train_y,train_x,test_y,test_x,testfit) # FIX\n",
    "\n",
    "    # save in allModels dictionary\n",
    "    allModels[model] = modelPackage\n",
    "\n",
    "    del stateIn"
   ]
  },
  {
   "cell_type": "markdown",
   "metadata": {},
   "source": [
    "select best model"
   ]
  },
  {
   "cell_type": "code",
   "execution_count": 10,
   "metadata": {},
   "outputs": [
    {
     "name": "stdout",
     "output_type": "stream",
     "text": [
      "best model: E\n"
     ]
    },
    {
     "data": {
      "text/html": [
       "<div>\n",
       "<style scoped>\n",
       "    .dataframe tbody tr th:only-of-type {\n",
       "        vertical-align: middle;\n",
       "    }\n",
       "\n",
       "    .dataframe tbody tr th {\n",
       "        vertical-align: top;\n",
       "    }\n",
       "\n",
       "    .dataframe thead th {\n",
       "        text-align: right;\n",
       "    }\n",
       "</style>\n",
       "<table border=\"1\" class=\"dataframe\">\n",
       "  <thead>\n",
       "    <tr style=\"text-align: right;\">\n",
       "      <th></th>\n",
       "      <th>PE</th>\n",
       "      <th>P</th>\n",
       "      <th>E</th>\n",
       "      <th>H</th>\n",
       "      <th>PH</th>\n",
       "    </tr>\n",
       "  </thead>\n",
       "  <tbody>\n",
       "    <tr>\n",
       "      <th>0</th>\n",
       "      <td>0.589244</td>\n",
       "      <td>0.096251</td>\n",
       "      <td>0.568409</td>\n",
       "      <td>-0.021567</td>\n",
       "      <td>0.060103</td>\n",
       "    </tr>\n",
       "    <tr>\n",
       "      <th>1</th>\n",
       "      <td>0.487501</td>\n",
       "      <td>-0.095704</td>\n",
       "      <td>0.489737</td>\n",
       "      <td>-0.004910</td>\n",
       "      <td>-0.074997</td>\n",
       "    </tr>\n",
       "    <tr>\n",
       "      <th>2</th>\n",
       "      <td>0.540982</td>\n",
       "      <td>0.055276</td>\n",
       "      <td>0.510255</td>\n",
       "      <td>-0.002087</td>\n",
       "      <td>0.092860</td>\n",
       "    </tr>\n",
       "    <tr>\n",
       "      <th>3</th>\n",
       "      <td>0.513674</td>\n",
       "      <td>0.094261</td>\n",
       "      <td>0.506162</td>\n",
       "      <td>0.012836</td>\n",
       "      <td>0.106865</td>\n",
       "    </tr>\n",
       "    <tr>\n",
       "      <th>4</th>\n",
       "      <td>0.441467</td>\n",
       "      <td>0.013068</td>\n",
       "      <td>0.417960</td>\n",
       "      <td>0.018839</td>\n",
       "      <td>0.078549</td>\n",
       "    </tr>\n",
       "    <tr>\n",
       "      <th>5</th>\n",
       "      <td>0.617605</td>\n",
       "      <td>0.094109</td>\n",
       "      <td>0.611763</td>\n",
       "      <td>0.044923</td>\n",
       "      <td>0.141403</td>\n",
       "    </tr>\n",
       "    <tr>\n",
       "      <th>6</th>\n",
       "      <td>0.723956</td>\n",
       "      <td>0.176231</td>\n",
       "      <td>0.709573</td>\n",
       "      <td>-0.029986</td>\n",
       "      <td>0.180576</td>\n",
       "    </tr>\n",
       "    <tr>\n",
       "      <th>7</th>\n",
       "      <td>0.618317</td>\n",
       "      <td>0.052144</td>\n",
       "      <td>0.603590</td>\n",
       "      <td>0.047236</td>\n",
       "      <td>0.118619</td>\n",
       "    </tr>\n",
       "    <tr>\n",
       "      <th>8</th>\n",
       "      <td>0.584286</td>\n",
       "      <td>0.110127</td>\n",
       "      <td>0.571477</td>\n",
       "      <td>0.013916</td>\n",
       "      <td>0.108087</td>\n",
       "    </tr>\n",
       "    <tr>\n",
       "      <th>9</th>\n",
       "      <td>0.737744</td>\n",
       "      <td>0.000623</td>\n",
       "      <td>0.739065</td>\n",
       "      <td>0.016287</td>\n",
       "      <td>0.101379</td>\n",
       "    </tr>\n",
       "  </tbody>\n",
       "</table>\n",
       "</div>"
      ],
      "text/plain": [
       "         PE         P         E         H        PH\n",
       "0  0.589244  0.096251  0.568409 -0.021567  0.060103\n",
       "1  0.487501 -0.095704  0.489737 -0.004910 -0.074997\n",
       "2  0.540982  0.055276  0.510255 -0.002087  0.092860\n",
       "3  0.513674  0.094261  0.506162  0.012836  0.106865\n",
       "4  0.441467  0.013068  0.417960  0.018839  0.078549\n",
       "5  0.617605  0.094109  0.611763  0.044923  0.141403\n",
       "6  0.723956  0.176231  0.709573 -0.029986  0.180576\n",
       "7  0.618317  0.052144  0.603590  0.047236  0.118619\n",
       "8  0.584286  0.110127  0.571477  0.013916  0.108087\n",
       "9  0.737744  0.000623  0.739065  0.016287  0.101379"
      ]
     },
     "execution_count": 10,
     "metadata": {},
     "output_type": "execute_result"
    }
   ],
   "source": [
    "# model selection\n",
    "llh, bestModel = g.modelSelection(allModels,labelDict,procedure=\"forward\")\n",
    "\n",
    "# LLH values for all folds and models\n",
    "T = allModels[model]['testfit']['llh_test']\n",
    "llhKfold = {'PE': allModels[0]['testfit']['llh_test'], 'P': allModels[1]['testfit']['llh_test'],\n",
    "'E': allModels[2]['testfit']['llh_test'], 'H': allModels[3]['testfit']['llh_test'], 'PH': allModels[4]['testfit']['llh_test']};\n",
    "llhKfold_df = pd.DataFrame.from_dict(llhKfold)\n",
    "\n",
    "llhKfold_df"
   ]
  },
  {
   "cell_type": "markdown",
   "metadata": {},
   "source": [
    "check model convergence"
   ]
  },
  {
   "cell_type": "code",
   "execution_count": 11,
   "metadata": {},
   "outputs": [
    {
     "name": "stdout",
     "output_type": "stream",
     "text": [
      "model convergence = 100.0%\n"
     ]
    }
   ],
   "source": [
    "count = 0\n",
    "allCount = 0\n",
    "for model in range(5):\n",
    "    for i in range(10):\n",
    "        conStat = allModels[model]['kres'][i].success\n",
    "        allCount = allCount + 1\n",
    "        if conStat == True:\n",
    "            count = count + 1\n",
    "perConverge = 100*(count/allCount)\n",
    "print('model convergence = ' + str(perConverge) + '%')"
   ]
  },
  {
   "cell_type": "markdown",
   "metadata": {},
   "source": [
    "plot results of LLH ratio tests"
   ]
  },
  {
   "cell_type": "code",
   "execution_count": 12,
   "metadata": {},
   "outputs": [
    {
     "name": "stderr",
     "output_type": "stream",
     "text": [
      "C:\\Users\\jordannc\\AppData\\Local\\Temp\\ipykernel_32572\\1744479030.py:19: UserWarning: FixedFormatter should only be used together with FixedLocator\n",
      "  ax.set_xticklabels(labels)\n"
     ]
    },
    {
     "data": {
      "image/png": "[encoded data removed]",
      "text/plain": [
       "<Figure size 288x288 with 1 Axes>"
      ]
     },
     "metadata": {},
     "output_type": "display_data"
    }
   ],
   "source": [
    "x_err = np.zeros((5,1))\n",
    "x_mean = np.zeros((5,1))\n",
    "XX = np.arange(5)\n",
    "for model in range(5):\n",
    "    x_err[model] = np.std(allModels[model]['testfit']['llh_test'])\n",
    "    x_mean[model] = np.mean(allModels[model]['testfit']['llh_test'])\n",
    "\n",
    "x_mean = np.transpose(x_mean)[0]\n",
    "x_err = np.transpose(x_err)[0]\n",
    "\n",
    "labels = [\"PE\", \"P\", \"E\", \"H\", \"PH\"]\n",
    "\n",
    "fig, ax = plt.subplots()\n",
    "plt.scatter(labels,x_mean)\n",
    "plt.errorbar(labels, x_mean, yerr = x_err, fmt='o',ecolor = 'blue',color='black', capsize=5)\n",
    "plt.xlabel('model #'); plt.ylabel('likelihood test ratio')\n",
    "plt.title('simulated E cell')\n",
    "\n",
    "ax.set_xticklabels(labels)\n",
    "\n",
    "plt.show()\n"
   ]
  },
  {
   "cell_type": "markdown",
   "metadata": {},
   "source": [
    "check out best-fit parameters"
   ]
  },
  {
   "cell_type": "code",
   "execution_count": 15,
   "metadata": {},
   "outputs": [
    {
     "data": {
      "image/png": "[encoded data removed]",
      "text/plain": [
       "<Figure size 288x288 with 1 Axes>"
      ]
     },
     "metadata": {},
     "output_type": "display_data"
    }
   ],
   "source": [
    "model = 2\n",
    "for i in range(10):\n",
    "    bp = allModels[model]['kres'][i]['x']\n",
    "    bpExp = np.exp(bp)/g.dt\n",
    "    plt.plot(np.linspace(0, 2*np.pi,len(bp)),bp)\n",
    "\n",
    "plt.title('model 3: E');\n",
    "plt.xlabel('bin edges (rad)');\n",
    "plt.ylabel('exp(betas)/dt');"
   ]
  }
 ],
 "metadata": {
  "kernelspec": {
   "display_name": "Python 3",
   "language": "python",
   "name": "python3"
  },
  "language_info": {
   "codemirror_mode": {
    "name": "ipython",
    "version": 3
   },
   "file_extension": ".py",
   "mimetype": "text/x-python",
   "name": "python",
   "nbconvert_exporter": "python",
   "pygments_lexer": "ipython3",
   "version": "3.8.13"
  }
 },
 "nbformat": 4,
 "nbformat_minor": 4
}
