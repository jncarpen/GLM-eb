{
 "cells": [
  {
   "cell_type": "code",
   "execution_count": 1,
   "metadata": {},
   "outputs": [],
   "source": [
    "# preamble\n",
    "import scipy.io\n",
    "import numpy as np\n",
    "import matplotlib.pyplot as plt\n",
    "import seaborn as sns\n",
    "import math\n",
    "import pandas as pd\n",
    "import scipy.stats as stats\n",
    "import scipy as sp\n",
    "import statistics\n",
    "import mat73\n",
    "from scipy.sparse import spdiags, csr_matrix"
   ]
  },
  {
   "cell_type": "code",
   "execution_count": 2,
   "metadata": {},
   "outputs": [],
   "source": [
    "class glm:\n",
    "    def __init__(self, ST, P, hd):\n",
    "        # remove nans and infinite values\n",
    "        idx_finite = np.where(np.isfinite(P[:,1]))[0]\n",
    "        idx_notnan = np.where(~np.isnan(P[:,1]))[0]\n",
    "        keep_idx = np.intersect1d(idx_finite, idx_notnan)\n",
    "        \n",
    "        self.P = P[keep_idx,:]\n",
    "        self.x = P[keep_idx,1]\n",
    "        self.y = P[keep_idx,2]\n",
    "        self.t = P[keep_idx,0]\n",
    "        self.hd = (hd[keep_idx,0]*np.pi)/180; # 0-2pi\n",
    "        self.dt = P[:,1]-P[:,0]\n",
    "        self.ST = ST # spiketimes (not train)\n",
    "        \n",
    "    def get_size(self):\n",
    "        '''get size of recording box'''\n",
    "        \n",
    "        boxsz = np.nanmax([np.nanmax(self.x), np.nanmax(self.y)])\n",
    "        \n",
    "        return boxsz\n",
    "    \n",
    "    \n",
    "    \n",
    "    def pos_map(self, nbins=10):\n",
    "        '''design matrix for position variables'''\n",
    "        \n",
    "        boxsz = self.get_size()\n",
    "        bins = np.arange(boxsz/nbins/2, boxsz-boxsz/nbins/2, round(boxsz/nbins))\n",
    "        posgrid = np.zeros((len(self.x), nbins**2))\n",
    "        \n",
    "        for idx,val in enumerate(self.x):\n",
    "            \n",
    "            xvec = np.abs(self.x[idx]-bins); yvec = np.abs(self.y[idx]-bins);\n",
    "            min_x = np.min(xvec)\n",
    "            min_y = np.min(yvec)\n",
    "            idx_x = np.where(xvec == min_x); idx_x = idx_x[0][0];\n",
    "            idx_y = np.where(yvec == min_y); idx_y = idx_y[0][0];\n",
    "            bin_idx = np.ravel_multi_index((idx_y,idx_x), dims=(nbins,nbins), order='C') # a11=0, a12=1, a13=2;\n",
    "            posgrid[idx, bin_idx] = 1;\n",
    "            \n",
    "        return posgrid, bins\n",
    "    \n",
    "    \n",
    "    \n",
    "    def eb_map(self, nbins=10, rp=[75,75]):\n",
    "        '''design matrix for egocentric variables'''\n",
    "        \n",
    "        refx = rp[0]; refy = rp[1];\n",
    "        allo = np.arctan2(refy-self.y, refx-self.x) + (np.pi/2); # add 90 deg\n",
    "        allo[allo<0] = allo[allo<0]+2*np.pi;\n",
    "        ego = allo - self.hd; # shift from 0-2pi\n",
    "        egogrid = np.zeros((len(self.P),nbins));\n",
    "        bins = np.arange(2*np.pi/nbins/2, 2*np.pi-2*np.pi/nbins/2, 2*np.pi/nbins) # 10 bin ctrs\n",
    "        \n",
    "        for idx,val in enumerate(self.P):\n",
    "            \n",
    "            evec = np.abs(ego[idx]-bins)\n",
    "            min_e = np.min(evec)\n",
    "            idx_e = np.where(evec == min_e)\n",
    "            egogrid[idx, idx_e] = 1;\n",
    "            \n",
    "        return egogrid, bins"
   ]
  },
  {
   "cell_type": "markdown",
   "metadata": {},
   "source": [
    "### load data"
   ]
  },
  {
   "cell_type": "code",
   "execution_count": 3,
   "metadata": {},
   "outputs": [],
   "source": [
    "filepath = 'sampleData.mat'\n",
    "mat = scipy.io.loadmat(filepath)\n",
    "ST = mat['ST']; P = mat['P']; HD = mat['hd']"
   ]
  },
  {
   "cell_type": "markdown",
   "metadata": {},
   "source": [
    "### intialize class instance"
   ]
  },
  {
   "cell_type": "code",
   "execution_count": 13,
   "metadata": {},
   "outputs": [],
   "source": [
    "g = glm(ST,P,HD)"
   ]
  },
  {
   "cell_type": "markdown",
   "metadata": {},
   "source": [
    "## E+P model"
   ]
  },
  {
   "cell_type": "markdown",
   "metadata": {},
   "source": [
    "### 1. calculate tuning curves (data)"
   ]
  },
  {
   "cell_type": "code",
   "execution_count": 150,
   "metadata": {},
   "outputs": [],
   "source": [
    "HD = (HD + 180) % 360 - 180;\n",
    "t = P[:,0]; tpf = t[1]-t[0]\n",
    "x = P[:,1]\n",
    "y = P[:,2]\n",
    "boolean_spk = np.logical_and(t[0] <= ST, ST <= t[-1])\n",
    "spikes = ST[boolean_spk == True]\n",
    "edgesT = np.linspace(t[0], t[-1], len(t)+1)\n",
    "binnedSpikes, timeEdges = np.histogram(spikes, edgesT)\n",
    "\n",
    "# spatial bins\n",
    "nBins = 10;\n",
    "H, yedges, xedges = np.histogram2d(x, y, bins=10);\n",
    "hitx = np.digitize(x, xedges)\n",
    "hity= np.digitize(y, yedges)\n",
    "\n",
    "# angular bin centers\n",
    "num_Z_bins = 10; # 36 deg/bin\n",
    "Z_bins = np.linspace(0,360,num_Z_bins+1)\n",
    "Z_edges = np.linspace(-180,180,num_Z_bins+1)\n",
    "Z_bin_ctrs = (((Z_bins[1]-Z_bins[0])/2) + Z_bins[0:-1])-180\n",
    "\n",
    "# initialize structures\n",
    "time_H = np.ones((10,10,10))*np.NaN\n",
    "count_H = np.ones((10,10,10))*np.NaN\n",
    "R_xyh = np.ones((10,10,10))*np.NaN\n",
    "r_xyh = np.ones((10,10,10))*np.NaN\n",
    "r_xy = np.ones((10,10))*np.NaN\n",
    "\n",
    "## 3D tuning curve ##\n",
    "for rr in range(nBins):\n",
    "    for cc in range(nBins):\n",
    "        \n",
    "        # data from bin(rr,cc)\n",
    "        idx = np.where(np.logical_and(rr == hitx,cc == hity))\n",
    "        time_in_bin = len(idx)*tpf\n",
    "        spk = binnedSpikes[idx]\n",
    "        z_here = HD[idx]\n",
    "\n",
    "        # HD occupancy\n",
    "        zhist, _ = np.histogram(z_here, bins=Z_edges)\n",
    "        z_idx = np.digitize(z_here, Z_edges)\n",
    "        z_occ_here = zhist*tpf\n",
    "\n",
    "        # criteria check\n",
    "        bin_threshold = 0.4 # 400 ms/each\n",
    "        rate_threshold = 0.5 # Hz\n",
    "        bin_criteria = np.round(num_Z_bins*.5)\n",
    "        num_bins_passed = np.sum(z_occ_here>bin_threshold)\n",
    "\n",
    "        if num_bins_passed >= bin_criteria:\n",
    "            for H in range(len(Z_bin_ctrs)):\n",
    "                time_H[H,rr,cc] = z_occ_here[H]\n",
    "                count_H[H,rr,cc] = zhist[H]\n",
    "                idx_H = np.where(z_idx == H); idx_H = idx_H[0]\n",
    "\n",
    "                if time_H[H,rr,cc] > rate_threshold:\n",
    "                    spk_H = spk[idx_H]\n",
    "                    r_xyh_here = np.sum(spk_H)/(count_H[H,rr,cc]*tpf)\n",
    "\n",
    "                    # conditional ratemap\n",
    "                    if np.isfinite(r_xyh_here):\n",
    "                        r_xyh[H,rr,cc] = r_xyh_here\n",
    "\n",
    "            # spatial ratemap\n",
    "            r_xy[rr,cc] = np.nanmean(r_xyh[:,rr,cc])\n",
    "            \n",
    "            # conditional ratemap (zscore normalized)\n",
    "            R_xyh[:,rr,cc] = stats.zscore(r_xyh[:,rr,cc], nan_policy='omit')"
   ]
  },
  {
   "cell_type": "markdown",
   "metadata": {},
   "source": [
    "### 2. fit cosine to data"
   ]
  },
  {
   "cell_type": "code",
   "execution_count": null,
   "metadata": {},
   "outputs": [],
   "source": [
    "rCutOff = .5\n"
   ]
  }
 ],
 "metadata": {
  "kernelspec": {
   "display_name": "Python 3",
   "language": "python",
   "name": "python3"
  },
  "language_info": {
   "codemirror_mode": {
    "name": "ipython",
    "version": 3
   },
   "file_extension": ".py",
   "mimetype": "text/x-python",
   "name": "python",
   "nbconvert_exporter": "python",
   "pygments_lexer": "ipython3",
   "version": "3.6.10"
  }
 },
 "nbformat": 4,
 "nbformat_minor": 4
}
